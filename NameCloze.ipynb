{
 "cells": [
  {
   "cell_type": "markdown",
   "id": "792bc843-a54b-4531-8898-705242ad5b3c",
   "metadata": {},
   "source": [
    "# Name cloze test"
   ]
  },
  {
   "cell_type": "code",
   "execution_count": 3,
   "id": "3832657e-a284-41e8-8c7d-3faee3769121",
   "metadata": {},
   "outputs": [],
   "source": [
    "from glob import glob\n",
    "import pandas as pd\n",
    "from nltk.tokenize import sent_tokenize\n",
    "import textwrap\n",
    "import random\n",
    "\n",
    "import time\n",
    "import backoff\n",
    "import math\n",
    "import openai\n",
    "\n",
    "import seaborn as sns\n",
    "\n",
    "import nltk\n",
    "from nltk.tokenize import word_tokenize\n",
    "from nltk.tag import pos_tag\n",
    "from nltk.chunk import ne_chunk\n",
    "\n",
    "def print_wrapped_text(text, width=70):\n",
    "    texts = text.split('\\n')\n",
    "    if len(texts) > 1:\n",
    "        for t in texts:\n",
    "            print_wrapped_text(t, width=70)\n",
    "\n",
    "    else:\n",
    "        text = texts[0]\n",
    "        wrapper = textwrap.TextWrapper(width=width)\n",
    "        wrapped_text = wrapper.fill(text)\n",
    "        print(wrapped_text)\n",
    "    \n",
    "with open('credentials.txt', encoding = 'utf-8') as f:\n",
    "    organization = f.readline().strip()\n",
    "    api_key = f.readline().strip()\n",
    "    \n",
    "client = openai.OpenAI(organization=organization, api_key=api_key)"
   ]
  },
  {
   "cell_type": "code",
   "execution_count": 2,
   "id": "162ebcb5-624b-4e99-9237-8a4dd9475148",
   "metadata": {},
   "outputs": [
    {
     "name": "stderr",
     "output_type": "stream",
     "text": [
      "[nltk_data] Downloading package punkt to /Users/tunder/nltk_data...\n",
      "[nltk_data]   Package punkt is already up-to-date!\n",
      "[nltk_data] Downloading package averaged_perceptron_tagger to\n",
      "[nltk_data]     /Users/tunder/nltk_data...\n",
      "[nltk_data]   Unzipping taggers/averaged_perceptron_tagger.zip.\n",
      "[nltk_data] Downloading package maxent_ne_chunker to\n",
      "[nltk_data]     /Users/tunder/nltk_data...\n",
      "[nltk_data]   Unzipping chunkers/maxent_ne_chunker.zip.\n",
      "[nltk_data] Downloading package words to /Users/tunder/nltk_data...\n",
      "[nltk_data]   Unzipping corpora/words.zip.\n"
     ]
    },
    {
     "data": {
      "text/plain": [
       "True"
      ]
     },
     "execution_count": 2,
     "metadata": {},
     "output_type": "execute_result"
    }
   ],
   "source": [
    "import nltk\n",
    "nltk.download('punkt')\n",
    "nltk.download('averaged_perceptron_tagger')\n",
    "nltk.download('maxent_ne_chunker')\n",
    "nltk.download('words')\n"
   ]
  },
  {
   "cell_type": "markdown",
   "id": "e8af1e2a-53ee-4c32-b2dc-7ff7497f74d0",
   "metadata": {},
   "source": [
    "### Create questions and answers\n",
    "\n",
    "First we need to have a function that loads a book and generates questions."
   ]
  },
  {
   "cell_type": "code",
   "execution_count": 11,
   "id": "dc70c717-9209-4c3e-882f-60799f25df7e",
   "metadata": {},
   "outputs": [
    {
     "name": "stdout",
     "output_type": "stream",
     "text": [
      "['Andrew', 'Emily']\n"
     ]
    }
   ],
   "source": [
    "def extract_personal_names(sentence):\n",
    "    # Tokenize and POS tag the words in the sentence\n",
    "    words = nltk.word_tokenize(sentence)\n",
    "    pos_tags = nltk.pos_tag(words)\n",
    "\n",
    "    # Chunk words using named entity chunker\n",
    "    tree = ne_chunk(pos_tags)\n",
    "\n",
    "    # Extract and combine personal names\n",
    "    names = []\n",
    "    current_name = []\n",
    "    for subtree in tree:\n",
    "        if type(subtree) == nltk.Tree and subtree.label() == 'PERSON':\n",
    "            current_name.append(\" \".join([token for token, pos in subtree.leaves()]))\n",
    "        elif current_name:\n",
    "            names.append(\" \".join(current_name))\n",
    "            current_name = []\n",
    "\n",
    "    if current_name:\n",
    "        names.append(\" \".join(current_name))\n",
    "\n",
    "    return names\n",
    "\n",
    "# Example usage\n",
    "sentence = \"I have two friends, Andrew and Emily.\"\n",
    "print(extract_personal_names(sentence))"
   ]
  },
  {
   "cell_type": "code",
   "execution_count": 96,
   "id": "64dd3dc3-46e7-4df1-a89d-d166fc9f826e",
   "metadata": {},
   "outputs": [],
   "source": [
    "def make_QnA(filepath):\n",
    "    \n",
    "    titles = set(['Mr', 'Mrs', 'Miss', 'Mr.', 'Mrs.', 'Lady', \n",
    "              'Sir', 'Lord', 'Don', 'Master', 'Madame', 'Monsieur',\n",
    "                 'Baron', 'Captain', 'Doctor', 'Dr', 'Dr.', 'Didn', 'Wouldn', 'Isn', 'God'])\n",
    "    \n",
    "    with open(filepath, encoding = 'utf-8') as f:\n",
    "        novel = f.read()\n",
    "    sentences = list(sent_tokenize(novel))\n",
    "    propernouns = []\n",
    "    lengths = []\n",
    "    ctr = 0\n",
    "    for s in sentences:\n",
    "        ctr += 1\n",
    "        if ctr % 200 == 1:\n",
    "            print(ctr)\n",
    "        lengths.append(len(s.split()))\n",
    "        names = extract_personal_names(s)\n",
    "        propernouns.append(names)\n",
    "        \n",
    "    print('sentences parsed')\n",
    "    \n",
    "    questions = []\n",
    "    answers = []\n",
    "    \n",
    "    n = len(sentences)\n",
    "    ctr = 0\n",
    "    skip = 0\n",
    "    \n",
    "    for idx in range(n-7):\n",
    "        ctr += 1\n",
    "        if ctr % 500 == 1:\n",
    "            print(ctr)\n",
    "        if skip > 0:\n",
    "            skip = skip - 1\n",
    "            continue\n",
    "            \n",
    "        wordcount = 0\n",
    "        namecount = 0\n",
    "        namelist = []\n",
    "        for j in range(6):\n",
    "            wordcount += lengths[idx + j]\n",
    "            namecount += len(propernouns[idx + j])\n",
    "            namelist.extend(propernouns[idx + j])\n",
    "            if wordcount > 40:\n",
    "                break         \n",
    "                \n",
    "        if wordcount > 40 and wordcount < 55 and namecount == 1:\n",
    "            question = ' '.join(sentences[idx : idx + j + 1])\n",
    "            answer = namelist[0]\n",
    "            nameparts = answer.split()\n",
    "            if len(nameparts) > 1 and nameparts[0] in titles:\n",
    "                answer = ' '.join(nameparts[1:])\n",
    "            elif answer in titles:\n",
    "                continue\n",
    "                \n",
    "            question = question.replace(answer, '[MASK]')\n",
    "            \n",
    "            if '[MASK]' in question:\n",
    "                questions.append(question)\n",
    "                answers.append(answer)\n",
    "            skip = j\n",
    "            \n",
    "    return questions, answers\n",
    "\n",
    "def select_questions(questions, answers):\n",
    "    n = len(questions)\n",
    "    selections = random.sample([x for x in range(n)], 125)\n",
    "    q = []\n",
    "    a = []\n",
    "    for s in selections:\n",
    "        print(questions[s], ' --- ', answers[s])\n",
    "        user = input('? ')\n",
    "        if user != 'n':\n",
    "            q.append(questions[s])\n",
    "            a.append(answers[s])\n",
    "        if len(q) == 100:\n",
    "            break\n",
    "\n",
    "    return q, a\n",
    "        \n",
    "    "
   ]
  },
  {
   "cell_type": "code",
   "execution_count": 108,
   "id": "9809d76a-d830-4514-b7dc-a0543107fb55",
   "metadata": {},
   "outputs": [
    {
     "name": "stdout",
     "output_type": "stream",
     "text": [
      "1\n",
      "201\n",
      "401\n",
      "601\n",
      "801\n",
      "1001\n",
      "1201\n",
      "1401\n",
      "1601\n",
      "1801\n",
      "2001\n",
      "2201\n",
      "2401\n",
      "2601\n",
      "2801\n",
      "3001\n",
      "3201\n",
      "3401\n",
      "3601\n",
      "3801\n",
      "4001\n",
      "4201\n",
      "4401\n",
      "4601\n",
      "sentences parsed\n",
      "1\n",
      "501\n",
      "1001\n",
      "1501\n",
      "2001\n",
      "2501\n",
      "3001\n",
      "3501\n",
      "4001\n",
      "4501\n"
     ]
    }
   ],
   "source": [
    "questions, answers = make_QnA('chapterbooks/MurderIsDangerous.txt')"
   ]
  },
  {
   "cell_type": "code",
   "execution_count": 109,
   "id": "03ae5487-f9aa-476e-91e6-a779ff1cab5a",
   "metadata": {},
   "outputs": [
    {
     "data": {
      "text/plain": [
       "520"
      ]
     },
     "execution_count": 109,
     "metadata": {},
     "output_type": "execute_result"
    }
   ],
   "source": [
    "len(questions)"
   ]
  },
  {
   "cell_type": "code",
   "execution_count": 110,
   "id": "c486c76e-af6e-40aa-a720-e30b9d6c3574",
   "metadata": {},
   "outputs": [
    {
     "name": "stdout",
     "output_type": "stream",
     "text": [
      "“I wish I did.” I put my arms around her and kissed her. She yielded to me as if she expected this to be our last meeting. When I was able, I opened the door and went out. I waved to her from the pickup and started toward the post office to get [MASK].  ---  Driller\n"
     ]
    },
    {
     "name": "stdin",
     "output_type": "stream",
     "text": [
      "?  \n"
     ]
    },
    {
     "name": "stdout",
     "output_type": "stream",
     "text": [
      "“Go back to sleep.”\n",
      "\n",
      "When we were outside, [MASK] said, “It could have been one of them.”\n",
      "\n",
      "“Try to prove it. They’ll stick by each other and you’ll end up by making a lot of enemies and getting no information. I tried it a couple of days ago.  ---  Tawson\n"
     ]
    },
    {
     "name": "stdin",
     "output_type": "stream",
     "text": [
      "?  \n"
     ]
    },
    {
     "name": "stdout",
     "output_type": "stream",
     "text": [
      "Then they decided it might be valuable. They got most of the rest of the land around here. We’re like a sore thumb on their hand.”\n",
      "\n",
      "A thought occurred to me. “And [MASK]?”\n",
      "\n",
      "“Naw, I don’t think so. But we can’t be sure.”\n",
      "\n",
      "I was upset.  ---  Jerome\n"
     ]
    },
    {
     "name": "stdin",
     "output_type": "stream",
     "text": [
      "?  \n"
     ]
    },
    {
     "name": "stdout",
     "output_type": "stream",
     "text": [
      "Did you lock these doors before you left?”\n",
      "\n",
      "He looked in. Then he looked at me. His expression hadn’t changed. “I don’t remember. Why?”\n",
      "\n",
      "[MASK] and I didn’t go into the details. We simply told him how we had scared off a guy who was trying to blow us to smithereens.  ---  Driller\n"
     ]
    },
    {
     "name": "stdin",
     "output_type": "stream",
     "text": [
      "?  \n"
     ]
    },
    {
     "name": "stdout",
     "output_type": "stream",
     "text": [
      "I’m not the murderer. I’m it. I’m the guy somebody is trying to murder.”\n",
      "\n",
      "He took his glasses off and started fishing in his hip pocket for a handkerchief. His eyebrows were up and he looked mildly amused. “[MASK], we’ll get whoever is responsible.  ---  Witstow\n"
     ]
    },
    {
     "name": "stdin",
     "output_type": "stream",
     "text": [
      "?  \n"
     ]
    },
    {
     "name": "stdout",
     "output_type": "stream",
     "text": [
      "Four sticks of dynamite lay there. Their fuses had been twined together. I didn’t see what it meant at first. Then I recalled that the sheriff’s man had seen someone strike a match right under [MASK]’s window. I swallowed and said, “Thanks.  ---  Driller\n"
     ]
    },
    {
     "name": "stdin",
     "output_type": "stream",
     "text": [
      "?  \n"
     ]
    },
    {
     "name": "stdout",
     "output_type": "stream",
     "text": [
      "Around eight o’clock, [MASK] came. He was slicked up like an old oil field dude would be. When he came in, he looked me over anxiously. I think he expected to find me in leg irons with a back split by cat-o’-nine-tails.  ---  Driller\n"
     ]
    },
    {
     "name": "stdin",
     "output_type": "stream",
     "text": [
      "?  \n"
     ]
    },
    {
     "name": "stdout",
     "output_type": "stream",
     "text": [
      "The doors to the back were closed. They weren’t padlocked. I opened them and looked in. A new case, one that we hadn’t used, was open. There were vacant places for four sticks of dynamite. My only hope was that [MASK] had been right.  ---  Driller\n"
     ]
    },
    {
     "name": "stdin",
     "output_type": "stream",
     "text": [
      "?  \n"
     ]
    },
    {
     "name": "stdout",
     "output_type": "stream",
     "text": [
      "“I don’t see yet how and why you’d have done it. But just because I can’t figure it yet doesn’t mean you’re cleared.”\n",
      "\n",
      "[MASK] said, “It seems pretty clear that the watchman saw somebody tinkering with those boom tongs after they had been checked.  ---  Driller\n"
     ]
    },
    {
     "name": "stdin",
     "output_type": "stream",
     "text": [
      "?  \n"
     ]
    },
    {
     "name": "stdout",
     "output_type": "stream",
     "text": [
      "At the time he didn’t know anything about it.”\n",
      "\n",
      "The jailer nodded his head vigorously. I grinned at him. “Well?”\n",
      "\n",
      "“We watched for him. I was just as anxious as you to catch him. The only one we saw was [MASK].  ---  Driller\n"
     ]
    },
    {
     "name": "stdin",
     "output_type": "stream",
     "text": [
      "?  \n"
     ]
    },
    {
     "name": "stdout",
     "output_type": "stream",
     "text": [
      "It ain’t that. But I’m leaving, too. I never had a crush on Jerome, but I don’t like to see the head man kick somebody around.”\n",
      "\n",
      "“You know I don’t like it either,” I said. “But I had to hit him.” [MASK] nodded agreement.  ---  Driller\n"
     ]
    },
    {
     "name": "stdin",
     "output_type": "stream",
     "text": [
      "?  \n"
     ]
    },
    {
     "name": "stdout",
     "output_type": "stream",
     "text": [
      "“You weren’t, [MASK]?”\n",
      "\n",
      "He was worn out. I noticed for the first time just how tired he was. His eyes had deep circles under them and his back was bent. “No,” he said. “I was awake all right. But he must have sneaked up without making any noise.  ---  Driller\n"
     ]
    },
    {
     "name": "stdin",
     "output_type": "stream",
     "text": [
      "?  \n"
     ]
    },
    {
     "name": "stdout",
     "output_type": "stream",
     "text": [
      "Why?”\n",
      "\n",
      "“Like I just told you. I didn’t want to be in on anything.”\n",
      "\n",
      "I spoke bluntly. “You’re a liar, Jerome.” He didn’t say anything. “[MASK]’t you?”\n",
      "\n",
      "“Yeah. I was lying. I saw somebody standing outside the window as I was coming back from the truck.  ---  Aren\n"
     ]
    },
    {
     "name": "stdin",
     "output_type": "stream",
     "text": [
      "?  \n"
     ]
    },
    {
     "name": "stdout",
     "output_type": "stream",
     "text": [
      "“How do you know you’re one of the suspects,” the sheriff asked. “You been snooping in my private files?”\n",
      "\n",
      "[MASK] favored him with a glum stare. “This isn’t a time for nonsense. I know and you know. Every time something happened, I wondered if you’d think I’d done it.  ---  Jerome\n"
     ]
    },
    {
     "name": "stdin",
     "output_type": "stream",
     "text": [
      "?  \n"
     ]
    },
    {
     "name": "stdout",
     "output_type": "stream",
     "text": [
      "“That’s a lot of noise,” I said, pointing to the ceiling. “Like water on a tin roof,” she answered. “I see you’re dangerous with words, too.”\n",
      "\n",
      "“Too?”\n",
      "\n",
      "“Of course. Really, you’re completely dangerous. What’s your name? [MASK]’s Harry.”\n",
      "\n",
      "“Norma.” She didn’t begrudge the information.  ---  Mine\n"
     ]
    },
    {
     "name": "stdin",
     "output_type": "stream",
     "text": [
      "?  n\n"
     ]
    },
    {
     "name": "stdout",
     "output_type": "stream",
     "text": [
      "He was a good, kind old man. No one could want him dead. And yet his body wasn’t far from where I lay. And it was lifeless. I don’t know how long I had been there when [MASK] said, “Witstow.” I looked at him.  ---  Cartom\n"
     ]
    },
    {
     "name": "stdin",
     "output_type": "stream",
     "text": [
      "?  \n"
     ]
    },
    {
     "name": "stdout",
     "output_type": "stream",
     "text": [
      "“Fact is,” I told him, “I’m just about desperate to get water, Mr. [MASK]. I can’t tell you how badly I need it. As I told you last time I saw you, my company will be happy to pay you any reasonable price.” I could have said lots more.  ---  Naughton\n"
     ]
    },
    {
     "name": "stdin",
     "output_type": "stream",
     "text": [
      "?  \n"
     ]
    },
    {
     "name": "stdout",
     "output_type": "stream",
     "text": [
      "“What happens when we get to the jail?” I asked. Before I had an answer I had time to light a cigarette and smoke it half way through. And when it came, it wasn’t much of an answer. “I don’t have to answer your questions,” [MASK] said.  ---  Cartom\n"
     ]
    },
    {
     "name": "stdin",
     "output_type": "stream",
     "text": [
      "?  \n"
     ]
    },
    {
     "name": "stdout",
     "output_type": "stream",
     "text": [
      "Maybe he really is trying to hang this on me so hard that he hasn’t got time to try to get the real murderer.”\n",
      "\n",
      "“Let’s talk about something else,” [MASK] said. “Let’s worry about getting our water so we can shoot some more holes.  ---  Driller\n"
     ]
    },
    {
     "name": "stdin",
     "output_type": "stream",
     "text": [
      "?  \n"
     ]
    },
    {
     "name": "stdout",
     "output_type": "stream",
     "text": [
      "But I had to do something, so I started coffee going. When the aroma filled the shack, [MASK] opened his eyes. He looked at me in disbelief. “Suffering trilobites,” he exploded sleepily. “You can cook, too!”\n",
      "\n",
      "“Get up, you old fossil,” I laughed.  ---  Driller\n"
     ]
    },
    {
     "name": "stdin",
     "output_type": "stream",
     "text": [
      "?  \n"
     ]
    },
    {
     "name": "stdout",
     "output_type": "stream",
     "text": [
      "The man I had blamed and called killer was dead. I looked at Driller. His face was blank. He was just as horrified as I was. [MASK] took his hands away from his face. Without his glasses his eyes were small.  ---  Cartom\n"
     ]
    },
    {
     "name": "stdin",
     "output_type": "stream",
     "text": [
      "?  \n"
     ]
    },
    {
     "name": "stdout",
     "output_type": "stream",
     "text": [
      "It was peaceful. The birds were singing and lighting on telephone wires and branches of trees. It was a morning just like any other, except that it was the morning after the murder of [MASK]. It was the morning Norma would hear the news of his murder.  ---  Barney Lester\n"
     ]
    },
    {
     "name": "stdin",
     "output_type": "stream",
     "text": [
      "?  \n"
     ]
    },
    {
     "name": "stdout",
     "output_type": "stream",
     "text": [
      "I’d leave, too.”\n",
      "\n",
      "If I hadn’t been such a stubborn fool, I’d probably have agreed with them. [MASK] was right, as I hated to admit it even to myself. No job was worth the risk of being murdered. Not even if you’ve had your heart set on it ever since you can remember.  ---  Jerome\n"
     ]
    },
    {
     "name": "stdin",
     "output_type": "stream",
     "text": [
      "?  \n"
     ]
    },
    {
     "name": "stdout",
     "output_type": "stream",
     "text": [
      "“You really handle that thing,” I said. He nodded a heavy head. “Yeah.” That was all he said. He kept looking at me. “See you in a few days,” I said, and walked back to the pickup. [MASK] was waiting for me at the location.  ---  Driller\n"
     ]
    },
    {
     "name": "stdin",
     "output_type": "stream",
     "text": [
      "?  \n"
     ]
    },
    {
     "name": "stdout",
     "output_type": "stream",
     "text": [
      "They sat up, all four of them, rubbing their eyes. “What’s the matter?” [MASK] asked. “What is it?” There was a desperate tone to his questions. I looked at each of them before I said, “The amplifiers have been smashed. Every single one of them.” I watched their expressions carefully.  ---  Jerome\n"
     ]
    },
    {
     "name": "stdin",
     "output_type": "stream",
     "text": [
      "?  \n"
     ]
    },
    {
     "name": "stdout",
     "output_type": "stream",
     "text": [
      "I shook it off. “How come Lester knows so damn much about what we do and what we need?”\n",
      "\n",
      "[MASK] didn’t say anything. I could feel the blood rising in me. My face was hot and I knew it was red.  ---  Jerome\n"
     ]
    },
    {
     "name": "stdin",
     "output_type": "stream",
     "text": [
      "?  \n"
     ]
    },
    {
     "name": "stdout",
     "output_type": "stream",
     "text": [
      "Dead.”\n",
      "\n",
      "My breath came in so quickly it hurt. “Dead!”\n",
      "\n",
      "“Yeah. He was hit over the head with something. What was it?” He was asking me. I couldn’t say anything. [MASK] asked, “When was he killed?” I knew he was trying to establish an alibi for me.  ---  Driller\n"
     ]
    },
    {
     "name": "stdin",
     "output_type": "stream",
     "text": [
      "?  \n"
     ]
    },
    {
     "name": "stdout",
     "output_type": "stream",
     "text": [
      "You couldn’t help liking him. I threw away a cigarette and was about to light another when I realized we were putting off what had to be done. “I’m going to tell [MASK] that something’s happened,” I said. “You wait here.  ---  Cartom\n"
     ]
    },
    {
     "name": "stdin",
     "output_type": "stream",
     "text": [
      "?  \n"
     ]
    },
    {
     "name": "stdout",
     "output_type": "stream",
     "text": [
      "All the pieces, too. There’s something peculiar.”\n",
      "\n",
      "“Let’s not talk about it for a while, [MASK],” I asked. “It’s still too close.”\n",
      "\n",
      "He put his hand on my arm. It was steady, firm. His manner communicated some of his strength to me.  ---  Driller\n"
     ]
    },
    {
     "name": "stdin",
     "output_type": "stream",
     "text": [
      "?  \n"
     ]
    },
    {
     "name": "stdout",
     "output_type": "stream",
     "text": [
      "“He’ll be along.”\n",
      "\n",
      "We waited another half-hour. There was nothing to be worried about. [MASK] was a grown man. Things don’t happen to men when they go to the movies. He probably had some good reason for being late. We smoked and said a few things that weren’t important.  ---  Driller\n"
     ]
    },
    {
     "name": "stdin",
     "output_type": "stream",
     "text": [
      "?  \n"
     ]
    },
    {
     "name": "stdout",
     "output_type": "stream",
     "text": [
      "We’ll have to play it alone.”\n",
      "\n",
      "He looked worried, but I didn’t give him a chance to argue. “[MASK], you better leave now. Wander around town casually. At exactly ten o’clock I’m going to wave my handkerchief at the window. Before then, you be stationed some place where you can see who it is.  ---  Driller\n"
     ]
    },
    {
     "name": "stdin",
     "output_type": "stream",
     "text": [
      "?  \n"
     ]
    },
    {
     "name": "stdout",
     "output_type": "stream",
     "text": [
      "“Another goes by the name of Amalgamated.” He stopped. “I don’t think we have to worry much about either of them, really,” I said optimistically. [MASK] looked at me and asked, “Did it ever occur to you that those two troubles are really the same?”\n",
      "\n",
      "It hadn’t and I said so.  ---  Driller\n"
     ]
    },
    {
     "name": "stdin",
     "output_type": "stream",
     "text": [
      "?  \n"
     ]
    },
    {
     "name": "stdout",
     "output_type": "stream",
     "text": [
      "“No, that isn’t it. My boy, you’re new to this game. You told me so yourself. I like you, I think you’re a fine boy. I’m not mad that you took Norma out.”\n",
      "\n",
      "“Then what’s changed?”\n",
      "\n",
      "His face got older. “[MASK], you work for a good company, but it’s small.  ---  Harry\n"
     ]
    },
    {
     "name": "stdin",
     "output_type": "stream",
     "text": [
      "?  \n"
     ]
    },
    {
     "name": "stdout",
     "output_type": "stream",
     "text": [
      "I guess the killer thought he wouldn’t be found for quite a while. He had an unlucky break.”\n",
      "\n",
      "“How was he found?” [MASK] asked. He was just asking. His voice was as calm as if he had been ordering a malted milk with an egg in it.  ---  Jerome\n"
     ]
    },
    {
     "name": "stdin",
     "output_type": "stream",
     "text": [
      "?  \n"
     ]
    },
    {
     "name": "stdout",
     "output_type": "stream",
     "text": [
      "But he didn’t speak. Something was going on inside him. Like a battle. Or a remembered hurt. I almost felt sorry for him, but I was still too mad for that. [MASK] looked back at Bailey, who was still standing in the center of the room.  ---  Cal\n"
     ]
    },
    {
     "name": "stdin",
     "output_type": "stream",
     "text": [
      "?  \n"
     ]
    },
    {
     "name": "stdout",
     "output_type": "stream",
     "text": [
      "He really knows we treated him right?”\n",
      "\n",
      "“I don’t mean anything but,” [MASK] said. He wasn’t angry, just thoughtful. “This ain’t the first time it’s happened.”\n",
      "\n",
      "“So what do we do?”\n",
      "\n",
      "“We go lookin’ for the sheriff.”\n",
      "\n",
      "“For the sheriff!” I yelled.  ---  Driller\n"
     ]
    },
    {
     "name": "stdin",
     "output_type": "stream",
     "text": [
      "?  \n"
     ]
    },
    {
     "name": "stdout",
     "output_type": "stream",
     "text": [
      "I slammed one fist into the palm of my hand. [MASK] stood waiting for me to quit acting like a ten year old. “You can say anything you want,” I told him. “I have it coming.”\n",
      "\n",
      "He shook his head and smiled.  ---  Driller\n"
     ]
    },
    {
     "name": "stdin",
     "output_type": "stream",
     "text": [
      "?  \n"
     ]
    },
    {
     "name": "stdout",
     "output_type": "stream",
     "text": [
      "Would I leave now? I imagined he was wondering that. Would I stick to a spot that had been made hateful by the murder of my best friend? I couldn’t have answered questions simpler than that one. [MASK] held a small, ragged square of brown paper out in his palm.  ---  Cartom\n"
     ]
    },
    {
     "name": "stdin",
     "output_type": "stream",
     "text": [
      "?  \n"
     ]
    },
    {
     "name": "stdout",
     "output_type": "stream",
     "text": [
      "When he ran low, we couldn’t see him until he made a break for the next stack. Now he was in open country. There were only the derricks and a little equipment. “I see him!” I yelled. “He’s going up that derrick!”\n",
      "\n",
      "[MASK] put his flashlight beam on the derrick.  ---  Cartom\n"
     ]
    },
    {
     "name": "stdin",
     "output_type": "stream",
     "text": [
      "?  \n"
     ]
    },
    {
     "name": "stdout",
     "output_type": "stream",
     "text": [
      "He seemed to decide against it and then decide to go ahead. “[MASK], if you insist on staying, why don’t you at least write the company and let them know what’s going on? Nobody can blame you if we’re frozen out by Amalgamated.  ---  Harry\n"
     ]
    },
    {
     "name": "stdin",
     "output_type": "stream",
     "text": [
      "?  \n"
     ]
    },
    {
     "name": "stdout",
     "output_type": "stream",
     "text": [
      "This makes me very happy. Happiness comes to the man whose land was leased before the well was drilled.” I pushed my face close to hers. “All because I stop at the Morris Pipe and [MASK] and buy shot hole casing.”\n",
      "\n",
      "“You’re wonderful,” she sighed.  ---  Supply\n"
     ]
    },
    {
     "name": "stdin",
     "output_type": "stream",
     "text": [
      "?  n\n"
     ]
    },
    {
     "name": "stdout",
     "output_type": "stream",
     "text": [
      "His hand went for the pistol holster on his belt. “It’s [MASK]. Wake up.” He shook his head and looked at me inquisitively. “Some of our most vital equipment has been smashed.”\n",
      "\n",
      "He stood up. “Let’s question the rest of them.”\n",
      "\n",
      "We ran to the hut and I turned on the lights.  ---  Witstow\n"
     ]
    },
    {
     "name": "stdin",
     "output_type": "stream",
     "text": [
      "?  \n"
     ]
    },
    {
     "name": "stdout",
     "output_type": "stream",
     "text": [
      "It’s like a hospital. The first day you don’t mind it because you can spend it catching up on your sleep. Somebody yelled, “Hey!”\n",
      "\n",
      "I opened my eyes and looked. [MASK] said, “You ready to talk turkey?” He was standing outside the bars in the cell block.  ---  Cartom\n"
     ]
    },
    {
     "name": "stdin",
     "output_type": "stream",
     "text": [
      "?  \n"
     ]
    },
    {
     "name": "stdout",
     "output_type": "stream",
     "text": [
      "This might be his last chance. I was going to make every effort to see that it was. [MASK] was going to be outside watching to see that it was. I thought of Botts, and wondered what he had been doing on the edge of the location in the middle of the night.  ---  Driller\n"
     ]
    },
    {
     "name": "stdin",
     "output_type": "stream",
     "text": [
      "?  \n"
     ]
    },
    {
     "name": "stdout",
     "output_type": "stream",
     "text": [
      "It’ll make you feel good.”\n",
      "\n",
      "I didn’t want to lose my advantage. “Just tell me,” I said gruffly. “Never mind the permission.”\n",
      "\n",
      "He made an oval with his mouth and I knew he was examining his teeth with his tongue. “I used to work for [MASK].  ---  Lester\n"
     ]
    },
    {
     "name": "stdin",
     "output_type": "stream",
     "text": [
      "?  \n"
     ]
    },
    {
     "name": "stdout",
     "output_type": "stream",
     "text": [
      "Once we got outside I sort of tamed down. We took a walk down [MASK], saw a movie, and then I drove her home, There was a big orange moon peaking at us from behind the grill work of a derrick.  ---  Main Street\n"
     ]
    },
    {
     "name": "stdin",
     "output_type": "stream",
     "text": [
      "?  n\n"
     ]
    },
    {
     "name": "stdout",
     "output_type": "stream",
     "text": [
      "“I’m really sorry, sir.” I looked to Norma for understanding. She was frowning. I couldn’t tell anything by that. Mr. [MASK] explained calmly, “I don’t get any kind of a cut. I own this shop and I operate it as best I can.  ---  Morris\n"
     ]
    },
    {
     "name": "stdin",
     "output_type": "stream",
     "text": [
      "?  \n"
     ]
    },
    {
     "name": "stdout",
     "output_type": "stream",
     "text": [
      "[MASK] had big stakes. He needed the land we were on. He had told me that. He had said that his job depended on the way he made good the same as my job depended on the work I turned in.  ---  Lester\n"
     ]
    },
    {
     "name": "stdin",
     "output_type": "stream",
     "text": [
      "?  \n"
     ]
    },
    {
     "name": "stdout",
     "output_type": "stream",
     "text": [
      "“Well, what are we going to do about it?”\n",
      "\n",
      "I had to admit, “It looks like we’re just not going to do anything for a while till we get things straightened out.”\n",
      "\n",
      "He asked [MASK], “You’ve been in the field a long time.  ---  Driller\n"
     ]
    },
    {
     "name": "stdin",
     "output_type": "stream",
     "text": [
      "?  \n"
     ]
    },
    {
     "name": "stdout",
     "output_type": "stream",
     "text": [
      "He was on his back staring at the ceiling. “[MASK] better?” he asked. “Yeah. At least I know where I stand with Norma.”\n",
      "\n",
      "“Well, get some sleep. You’ll need to get up early and wrangle us some water from someplace.”\n",
      "\n",
      "I snapped off the light.  ---  Feel\n"
     ]
    },
    {
     "name": "stdin",
     "output_type": "stream",
     "text": [
      "?  n\n"
     ]
    },
    {
     "name": "stdout",
     "output_type": "stream",
     "text": [
      "I’ve told you what to do.” He patted me on the shoulder. “Get hold of yourself and don’t listen to Jerome.”\n",
      "\n",
      "“He’s right,” I said. “I never thought of it that way before. But it could have happened. It didn’t, but it could have.”\n",
      "\n",
      "“Lots of things could have happened,” [MASK] told me.  ---  Driller\n"
     ]
    },
    {
     "name": "stdin",
     "output_type": "stream",
     "text": [
      "?  \n"
     ]
    },
    {
     "name": "stdout",
     "output_type": "stream",
     "text": [
      "“[MASK], I knew him once. So what?”\n",
      "\n",
      "That wasn’t a good question. “So you turn white as a ghost when you see him. So you tighten up till you’re ready to pop. Now you better tell us so what.”\n",
      "\n",
      "“There’s nothing to tell,” he said.  ---  Okay\n"
     ]
    },
    {
     "name": "stdin",
     "output_type": "stream",
     "text": [
      "?  n\n"
     ]
    },
    {
     "name": "stdout",
     "output_type": "stream",
     "text": [
      "I had a feeling that things would come to a head quickly and that way I could at least see where I stood. I was walking the length of the small space allotted me when Mr. [MASK] appeared at the barred door that opened into my cell block.  ---  Morris\n"
     ]
    },
    {
     "name": "stdin",
     "output_type": "stream",
     "text": [
      "?  \n"
     ]
    },
    {
     "name": "stdout",
     "output_type": "stream",
     "text": [
      "Finally I said, “Well, darling, I’ve got to go. Now don’t worry. Everything is going to be okay. In the meantime take good care of yourself.”\n",
      "\n",
      "She stood up. “When will I see you again, [MASK]?”\n",
      "\n",
      "I wish I could have told her the answer.  ---  Harry\n"
     ]
    },
    {
     "name": "stdin",
     "output_type": "stream",
     "text": [
      "?  \n"
     ]
    },
    {
     "name": "stdout",
     "output_type": "stream",
     "text": [
      "This morning, I stopped at the shop. [MASK] looked in the pickup and got a glimpse of Driller, then walked away in a hurry. That was because he recognized the old man. From a long time ago. It fits beautifully like a jigsaw puzzle.  ---  Roston\n"
     ]
    },
    {
     "name": "stdin",
     "output_type": "stream",
     "text": [
      "?  \n"
     ]
    },
    {
     "name": "stdout",
     "output_type": "stream",
     "text": [
      "“You see, it does make a difference that you guys walked out yesterday. Somebody’s liable to get the idea that we aren’t the best of friends. Somebody like the sheriff.”\n",
      "\n",
      "“I swear I didn’t have anything to do with it,” [MASK] said.  ---  Jenkins\n"
     ]
    },
    {
     "name": "stdin",
     "output_type": "stream",
     "text": [
      "?  \n"
     ]
    },
    {
     "name": "stdout",
     "output_type": "stream",
     "text": [
      "“Tell you what,” I said. “You stay here with the pickup and wait for him. I’ll walk over to the restaurant across from the sheriff’s office. He might be having a bite.”\n",
      "\n",
      "I could see through the plate glass window before I went in that [MASK] wasn’t there.  ---  Driller\n"
     ]
    },
    {
     "name": "stdin",
     "output_type": "stream",
     "text": [
      "?  \n"
     ]
    },
    {
     "name": "stdout",
     "output_type": "stream",
     "text": [
      "He told me so as he shook me. I sat up and put my feet on the floor. “[MASK] o’clock?” I yelled. “Sure,” he grinned. “There isn’t anything to do around here and you sure needed the rest.”\n",
      "\n",
      "He was right.  ---  Ten\n"
     ]
    },
    {
     "name": "stdin",
     "output_type": "stream",
     "text": [
      "?  n\n"
     ]
    },
    {
     "name": "stdout",
     "output_type": "stream",
     "text": [
      "It was hard, sometimes, even to count on best friends. I couldn’t doubt him, but even [MASK] had gone to sleep. The lawman stood up and put his empty cup on the desk. He gave a big stretch. “Well I’ll be getting back to town.  ---  Driller\n"
     ]
    },
    {
     "name": "stdin",
     "output_type": "stream",
     "text": [
      "?  \n"
     ]
    },
    {
     "name": "stdout",
     "output_type": "stream",
     "text": [
      "“I later found out from Jerome,” I went on, “that he used to work for Amalgamated and was fired by [MASK] for selling information about the locations that company was scouting for possible lease and exploration. I had a few words with him and I hit him a couple of times.  ---  Lester\n"
     ]
    },
    {
     "name": "stdin",
     "output_type": "stream",
     "text": [
      "?  \n"
     ]
    },
    {
     "name": "stdout",
     "output_type": "stream",
     "text": [
      "I said, “Cal, you and [MASK] can go to work on some more surveying. That part can be planned even if we aren’t too sure of some of the angles. And Jenkins can do some checking on his supplies and help clean up the smashed amplifiers.  ---  Bailey\n"
     ]
    },
    {
     "name": "stdin",
     "output_type": "stream",
     "text": [
      "?  \n"
     ]
    },
    {
     "name": "stdout",
     "output_type": "stream",
     "text": [
      "Never was one for gettin’ my feet bogged down in mud when there’s going to be some dynamite shootin’.”\n",
      "\n",
      "I got some papers in order and told [MASK] to make sure things were ready so we wouldn’t lose any more time.  ---  Driller\n"
     ]
    },
    {
     "name": "stdin",
     "output_type": "stream",
     "text": [
      "?  \n"
     ]
    },
    {
     "name": "stdout",
     "output_type": "stream",
     "text": [
      "I have proof now that you don’t belong in jail.”\n",
      "\n",
      "He tossed his glasses on the desk and pulled at his trousers. “You were in jail all day and part of the night. After that, you were with [MASK]. So you have witnesses.  ---  Tawson\n"
     ]
    },
    {
     "name": "stdin",
     "output_type": "stream",
     "text": [
      "?  \n"
     ]
    },
    {
     "name": "stdout",
     "output_type": "stream",
     "text": [
      "That was the angle that made sense and yet I hadn’t mentioned it to Sheriff Cartom. He was another enigma in the setup. Whose side was he on? I’d have given a gusher to know if he was working for [MASK].  ---  Lester\n"
     ]
    },
    {
     "name": "stdin",
     "output_type": "stream",
     "text": [
      "?  \n"
     ]
    },
    {
     "name": "stdout",
     "output_type": "stream",
     "text": [
      "“You can find yourself another surveyor.” He motioned toward Bailey. “Another rod man too.” They walked out of the shack, helping [MASK] a little as they went. He still seemed absorbed with some trouble that was taking him apart from the inside.  ---  Jerome\n"
     ]
    },
    {
     "name": "stdin",
     "output_type": "stream",
     "text": [
      "?  \n"
     ]
    },
    {
     "name": "stdout",
     "output_type": "stream",
     "text": [
      "How about me using the pickup and going to town this afternoon?”\n",
      "\n",
      "“Sure, Jerome. But I have to be at Mr. [MASK]’ shop by ten to get my ride. Be sure you’re back in time to take me.” It was going to be a pleasure to have him away for a while.  ---  Morris\n"
     ]
    },
    {
     "name": "stdin",
     "output_type": "stream",
     "text": [
      "?  \n"
     ]
    },
    {
     "name": "stdout",
     "output_type": "stream",
     "text": [
      "It didn’t make me feel good to realize he wasn’t backing up my decision a hundred per cent. “You sound as if you think I should leave.”\n",
      "\n",
      "He gave the truth to the accusation. “[MASK],” he said, “when it comes to a man’s own life, he has to follow his own ideas.  ---  Harry\n"
     ]
    },
    {
     "name": "stdin",
     "output_type": "stream",
     "text": [
      "?  \n"
     ]
    },
    {
     "name": "stdout",
     "output_type": "stream",
     "text": [
      "“So you and [MASK] climbed into the cab of that truck with no witnesses to see you.”\n",
      "\n",
      "He stopped for a while so I had to say, “Yeah, I guess so.”\n",
      "\n",
      "At my admission he said, “So how does anybody know you were in the cab with [MASK]?  ---  Pete\n"
     ]
    },
    {
     "name": "stdin",
     "output_type": "stream",
     "text": [
      "?  \n"
     ]
    },
    {
     "name": "stdout",
     "output_type": "stream",
     "text": [
      "“Didn’t this happen rather suddenly? She’s only known you less than a week.”\n",
      "\n",
      "I sensed his fatherly concern. “Yes, sir. It did happen suddenly. But I love her and I hope you won’t object to me.”\n",
      "\n",
      "“It isn’t that I object, [MASK].  ---  Harry\n"
     ]
    },
    {
     "name": "stdin",
     "output_type": "stream",
     "text": [
      "?  \n"
     ]
    },
    {
     "name": "stdout",
     "output_type": "stream",
     "text": [
      "Just do your best.” With that advice off his chest he rolled out one of the racks, set it up, and threw a mattress on it. It made me tired just to see him stretched out so comfortably. [MASK] came back into the shack.  ---  Jenkins\n"
     ]
    },
    {
     "name": "stdin",
     "output_type": "stream",
     "text": [
      "?  \n"
     ]
    },
    {
     "name": "stdout",
     "output_type": "stream",
     "text": [
      "And I hated even more seeing the look of triumphant satisfaction that would undoubtedly spread over [MASK]’s face. I had seen it when I came back that day without the shot hole casing. I wasn’t in a hurry to see it again.  ---  Jerome\n"
     ]
    },
    {
     "name": "stdin",
     "output_type": "stream",
     "text": [
      "?  \n"
     ]
    },
    {
     "name": "stdout",
     "output_type": "stream",
     "text": [
      "But if I make good, we’re set. Then we can be married. Everything will be wonderful, darling. But I have to stay on that job.” As I spoke, her face lost its brightness. She used her best woman’s tactics. “You won’t leave, [MASK]?  ---  Harry\n"
     ]
    },
    {
     "name": "stdin",
     "output_type": "stream",
     "text": [
      "?  \n"
     ]
    },
    {
     "name": "stdout",
     "output_type": "stream",
     "text": [
      "Suddenly, I jumped up from my bunk, dropped the cup on the floor and raced for the door. I had it open in a second and was outside. Then I heard them for sure—footsteps. [MASK] was running around the other side of the shack.  ---  Someone\n"
     ]
    },
    {
     "name": "stdin",
     "output_type": "stream",
     "text": [
      "?  n\n"
     ]
    },
    {
     "name": "stdout",
     "output_type": "stream",
     "text": [
      "You’ll have to promise that nobody knows where you got them. That part will be your responsibility.”\n",
      "\n",
      "“You’re swell, sir,” I said because I couldn’t think of anything better. “You’ve got my word.”\n",
      "\n",
      "[MASK] was just smiling, silently. She stood with her hands behind her back as if they were tied there.  ---  Norma\n"
     ]
    },
    {
     "name": "stdin",
     "output_type": "stream",
     "text": [
      "?  \n"
     ]
    },
    {
     "name": "stdout",
     "output_type": "stream",
     "text": [
      "“That’s why you couldn’t go out with me tonight?”\n",
      "\n",
      "“Yes. That’s why.”\n",
      "\n",
      "“He’s not your type. I don’t like him.”\n",
      "\n",
      "The corners of her eyes crinkled. “[MASK] asked you to like him. I’m the one who has the date with him.” She added a column of figures on a machine.  ---  Nobody\n"
     ]
    },
    {
     "name": "stdin",
     "output_type": "stream",
     "text": [
      "?  n\n"
     ]
    },
    {
     "name": "stdout",
     "output_type": "stream",
     "text": [
      "I was trembling a little. I was mad and excited. [MASK] bent over him and lifted his head. The old man glanced back to me and I felt shame run through me for having lost control completely. “I’m sorry, [MASK],” I said.  ---  Driller\n"
     ]
    },
    {
     "name": "stdin",
     "output_type": "stream",
     "text": [
      "?  \n"
     ]
    },
    {
     "name": "stdout",
     "output_type": "stream",
     "text": [
      "If he comes, drive over to the sheriff’s office. If not, I’ll be back in a few minutes.” I got out and banged the door behind me. If anything happened to [MASK]. . .Cartom was sitting at his desk, bending over some work.  ---  Driller\n"
     ]
    },
    {
     "name": "stdin",
     "output_type": "stream",
     "text": [
      "?  \n"
     ]
    },
    {
     "name": "stdout",
     "output_type": "stream",
     "text": [
      "They had parked by a comer of the shack, where they had a good view of the door and one window. I couldn’t have gone far even if I had squirmed through the other window. I faced [MASK] and was a little surprised to see that he wasn’t smiling and his eyes weren’t shining.  ---  Jerome\n"
     ]
    },
    {
     "name": "stdin",
     "output_type": "stream",
     "text": [
      "?  \n"
     ]
    },
    {
     "name": "stdout",
     "output_type": "stream",
     "text": [
      "“I was chasing somebody who was under the window out there. We’ve been here talking half the night, and then when he’s right there, we let him get away.”\n",
      "\n",
      "[MASK] had another cup of coffee ready. He handed it to me.  ---  Driller\n"
     ]
    },
    {
     "name": "stdin",
     "output_type": "stream",
     "text": [
      "?  \n"
     ]
    },
    {
     "name": "stdout",
     "output_type": "stream",
     "text": [
      "Outside, the lights of the truck were almost on us. I motioned the driver to turn left and as he passed I hopped onto the running board. “[MASK]?”\n",
      "\n",
      "His face was lost in a grin. “Yeah, [MASK].” He ground the truck to a halt.  ---  Pete\n"
     ]
    },
    {
     "name": "stdin",
     "output_type": "stream",
     "text": [
      "?  \n"
     ]
    },
    {
     "name": "stdout",
     "output_type": "stream",
     "text": [
      "It steadied me a bit. “How?” I croaked through a mouth of cotton seed. [MASK] wiped the two spots on his nose that formed the resting place for his spectacles. “He was probably hit on the head first to knock him out,” he said.  ---  Cartom\n"
     ]
    },
    {
     "name": "stdin",
     "output_type": "stream",
     "text": [
      "?  \n"
     ]
    },
    {
     "name": "stdout",
     "output_type": "stream",
     "text": [
      "I stopped the pickup beside them and looked out of the window. “Well, well. Everybody went out and got drunk and now we’re all back. Cluck, cluck, said the mother hen. Now all my chicks are home.”\n",
      "\n",
      "[MASK] said, “You can let up on the funny stuff.  ---  Cal\n"
     ]
    },
    {
     "name": "stdin",
     "output_type": "stream",
     "text": [
      "?  \n"
     ]
    },
    {
     "name": "stdout",
     "output_type": "stream",
     "text": [
      "I could feel her relax as if this had been the first time all day that she could let herself go. It was for me too. “[MASK], what’s it all about?” she whispered. “Why are people getting killed? What’s the shop got to do with it?  ---  Harry\n"
     ]
    },
    {
     "name": "stdin",
     "output_type": "stream",
     "text": [
      "?  \n"
     ]
    },
    {
     "name": "stdout",
     "output_type": "stream",
     "text": [
      "He was weak-livered. He didn’t seem like a guy who’d pull something like this, but he had told me before that he was jealous of me. [MASK] had fired him, he said, and now I had him. Not in so many words.  ---  Lester\n"
     ]
    },
    {
     "name": "stdin",
     "output_type": "stream",
     "text": [
      "?  \n"
     ]
    },
    {
     "name": "stdout",
     "output_type": "stream",
     "text": [
      "You know that.”\n",
      "\n",
      "I decided to ask him point-blank. “If you had proof that [MASK] was a murderer, would you bring him in?”\n",
      "\n",
      "He opened his eyes. He said without feeling or expression, “If I knew my grandmother was a murderer, I’d turn her in.”\n",
      "\n",
      "“That’s what I wanted to know,” I said.  ---  Lester\n"
     ]
    },
    {
     "name": "stdin",
     "output_type": "stream",
     "text": [
      "?  \n"
     ]
    },
    {
     "name": "stdout",
     "output_type": "stream",
     "text": [
      "Well, [MASK], it seems odd to me that attempts have been made on my life and you’re the only man who wants me out of here and you say you don’t know what we have to say to each other about it.”\n",
      "\n",
      "He got to his feet and roared at me.  ---  Lester\n"
     ]
    },
    {
     "name": "stdin",
     "output_type": "stream",
     "text": [
      "?  \n"
     ]
    },
    {
     "name": "stdout",
     "output_type": "stream",
     "text": [
      "What was going through his mind? He had made so many wrong moves. He had missed me in the truck. He had been forced to kill a witness, the watchman. He had missed me in the shack. He had been forced to kill [MASK].  ---  Botts\n"
     ]
    },
    {
     "name": "stdin",
     "output_type": "stream",
     "text": [
      "?  \n"
     ]
    },
    {
     "name": "stdout",
     "output_type": "stream",
     "text": [
      "“In his veins?” [MASK] dead from such a cause was almost funny. He had spent his life in the oil fields of the Southwest. He knew the taste of oil from putting the sand in his mouth. He knew the smell of it.  ---  Driller\n"
     ]
    },
    {
     "name": "stdin",
     "output_type": "stream",
     "text": [
      "?  \n"
     ]
    },
    {
     "name": "stdout",
     "output_type": "stream",
     "text": [
      "“Or do you want breakfast in bed?”\n",
      "\n",
      "He dressed and we drank the coffee. We talked about how good it was. We made small conversation about things as important as coffee. [MASK] finally hit on the bright idea of cleaning out the desk.  ---  Driller\n"
     ]
    },
    {
     "name": "stdin",
     "output_type": "stream",
     "text": [
      "?  \n"
     ]
    },
    {
     "name": "stdout",
     "output_type": "stream",
     "text": [
      "He was an old man and he hadn’t been getting the rest he needed. That, on top of worrying about me, hadn’t done him any good. [MASK] had aged as much in the past week as he had in the past two years.  ---  Driller\n"
     ]
    },
    {
     "name": "stdin",
     "output_type": "stream",
     "text": [
      "?  \n"
     ]
    },
    {
     "name": "stdout",
     "output_type": "stream",
     "text": [
      "But a heavy hand had been placed over our hopes. [MASK] was getting old and deserved better breaks than this. I was young and couldn’t handle breaks as tough as this. I imagine we looked like a pair of sick calves.  ---  Driller\n"
     ]
    },
    {
     "name": "stdin",
     "output_type": "stream",
     "text": [
      "?  n\n"
     ]
    },
    {
     "name": "stdout",
     "output_type": "stream",
     "text": [
      "“What’s that?”\n",
      "\n",
      "He had been shielding his eyes from the sun while he looked around. “[MASK] for some water. What we have is almost gone.”\n",
      "\n",
      "I told him I’d see the neighboring farms and arrange for the use of their water.  ---  Bargain\n"
     ]
    },
    {
     "name": "stdin",
     "output_type": "stream",
     "text": [
      "?  n\n"
     ]
    },
    {
     "name": "stdout",
     "output_type": "stream",
     "text": [
      "He gave me a long stare and shrugged. He was blowing mist on his glasses when we walked over to his car. He sat there waiting for us. I introduced [MASK] to him and put on an inquisitive face. “You come to stand guard over me personally?” I asked.  ---  Driller\n"
     ]
    },
    {
     "name": "stdin",
     "output_type": "stream",
     "text": [
      "?  \n"
     ]
    },
    {
     "name": "stdout",
     "output_type": "stream",
     "text": [
      "Known them long?”\n",
      "\n",
      "“No, I haven’t known them long,” I said. “And I don’t know much about them. But that isn’t trying to implicate them. I wouldn’t vouch for them or not vouch for them. They’re just a bunch of guys.”\n",
      "\n",
      "“Jerome isn’t just a guy,” [MASK] said.  ---  Cartom\n"
     ]
    },
    {
     "name": "stdin",
     "output_type": "stream",
     "text": [
      "?  \n"
     ]
    },
    {
     "name": "stdout",
     "output_type": "stream",
     "text": [
      "The others hadn’t even come out of their hut. There wasn’t any reason for them to, but I couldn’t help wondering if [MASK] was awake and knew that the company had sent the flues. “Well, let’s turn in again,” I said to the old man.  ---  Jerome\n"
     ]
    },
    {
     "name": "stdin",
     "output_type": "stream",
     "text": [
      "?  \n"
     ]
    },
    {
     "name": "stdout",
     "output_type": "stream",
     "text": [
      "But even if he hadn’t been, he was [MASK]’s father. He took his hand away and said, “Incidentally, I’ll sell you all the shot hole casing you want. You’re having enough trouble without having your supplies shut off.”\n",
      "\n",
      "I should have felt pretty good about that, but it was a little late.  ---  Norma\n"
     ]
    },
    {
     "name": "stdin",
     "output_type": "stream",
     "text": [
      "?  \n"
     ]
    },
    {
     "name": "stdout",
     "output_type": "stream",
     "text": [
      "But I’m worried.”\n",
      "\n",
      "He put his glasses on and dug his thumbs under his suspenders. “Of course, he might not have gone to the show at all. Unless you saw him go in.”\n",
      "\n",
      "“I didn’t see him. I left him there with [MASK].  ---  Jerome\n"
     ]
    },
    {
     "name": "stdin",
     "output_type": "stream",
     "text": [
      "?  \n"
     ]
    },
    {
     "name": "stdout",
     "output_type": "stream",
     "text": [
      "I was asleep before I knew it. Except for occasions like the previous night I could fall asleep anywhere, any time. We were up again at five. [MASK] could set his mind like an alarm clock and it rang when he wanted it to.  ---  Driller\n"
     ]
    },
    {
     "name": "stdin",
     "output_type": "stream",
     "text": [
      "?  \n"
     ]
    },
    {
     "name": "stdout",
     "output_type": "stream",
     "text": [
      "“I didn’t get the water,” I said. I wanted that understood right from the beginning so we could talk about it and get it over with. “Why not?” [MASK] asked quietly. I unknotted my tie and threw it on the desk.  ---  Driller\n"
     ]
    },
    {
     "name": "stdin",
     "output_type": "stream",
     "text": [
      "?  \n"
     ]
    },
    {
     "name": "stdout",
     "output_type": "stream",
     "text": [
      "We don’t have any water to tamp the dynamite with. We don’t have any shot hole casting to pole the dynamite down.”\n",
      "\n",
      "I held up my hand for him to stop. “We don’t have anything but troubles. We have enough of them.”\n",
      "\n",
      "While we grinned foolishly at each other, [MASK] walked in.  ---  Jenkins\n"
     ]
    },
    {
     "name": "stdin",
     "output_type": "stream",
     "text": [
      "?  \n"
     ]
    },
    {
     "name": "stdout",
     "output_type": "stream",
     "text": [
      "When I did stop, [MASK] took advantage of it. “What do you mean she’s all he had? What is she to him?”\n",
      "\n",
      "“She’s everything to him. Look, he’s worked for her father for a long time. Ever since she was a little girl.  ---  Cartom\n"
     ]
    },
    {
     "name": "stdin",
     "output_type": "stream",
     "text": [
      "?  \n"
     ]
    },
    {
     "name": "stdout",
     "output_type": "stream",
     "text": [
      "We waved at each other and I started the motor and drove toward town. I didn’t know what to do with the things I had learned; I hadn’t had time to grasp what they meant. [MASK] had received a note and thought I sent it to him.  ---  Barney Lester\n"
     ]
    },
    {
     "name": "stdin",
     "output_type": "stream",
     "text": [
      "?  \n"
     ]
    },
    {
     "name": "stdout",
     "output_type": "stream",
     "text": [
      "If you’re going to be mixed up in this and stay in trouble, [MASK] mustn’t be involved. I know she likes you. Likes you very much. But that’s all the more reason for you to settle this thing now or forget her and leave her alone.”\n",
      "\n",
      "“Mr.  ---  Norma\n"
     ]
    },
    {
     "name": "stdin",
     "output_type": "stream",
     "text": [
      "?  \n"
     ]
    },
    {
     "name": "stdout",
     "output_type": "stream",
     "text": [
      "“And what do you think, Norma?”\n",
      "\n",
      "“I think I love you very much,” she said. “And I think it’s dangerous for you. [MASK], I wish you would quit your job and go. It’s not safe here. Please, darling. Be sensible.”\n",
      "\n",
      "“And what about you?”\n",
      "\n",
      "She took a deep breath.  ---  Harry\n"
     ]
    },
    {
     "name": "stdin",
     "output_type": "stream",
     "text": [
      "?  \n"
     ]
    },
    {
     "name": "stdout",
     "output_type": "stream",
     "text": [
      "I appreciate it.”\n",
      "\n",
      "We stood in that awkward silence that means two men are trying to express the friendship they feel. “I’d better be getting back to the location,” I said. “The old-timer is out there by himself, and it isn’t very safe to be out there.”\n",
      "\n",
      "He said, “All right, [MASK].  ---  Harry\n"
     ]
    },
    {
     "name": "stdin",
     "output_type": "stream",
     "text": [
      "?  \n"
     ]
    },
    {
     "name": "stdout",
     "output_type": "stream",
     "text": [
      "I took off my shoes and wiggled my toes. It took all the energy I had. Carefully, almost afraid that my whole body would crack if I didn’t use caution, I stretched out on the hard bunk. When [MASK] woke me, it was ten o’clock in the morning.  ---  Driller\n"
     ]
    },
    {
     "name": "stdin",
     "output_type": "stream",
     "text": [
      "?  n\n"
     ]
    },
    {
     "name": "stdout",
     "output_type": "stream",
     "text": [
      "I didn’t hear a thing till the shot.”\n",
      "\n",
      "We sat around on our bunks, not saying much. There wasn’t a great deal to talk about that we hadn’t already been over a dozen times. Finally [MASK] stretched out on the mattress and closed his eyes.  ---  Driller\n"
     ]
    },
    {
     "name": "stdin",
     "output_type": "stream",
     "text": [
      "?  n\n"
     ]
    },
    {
     "name": "stdout",
     "output_type": "stream",
     "text": [
      "“At seven-thirty?”\n",
      "\n",
      "She favored him with good-humored eyes. “Seven-thirty.”\n",
      "\n",
      "We walked out together. He said, “I’ll see you again sometime, [MASK],” and got into his car. I guess he had finished his business there before I arrived. I watched him out of sight.  ---  Witstow\n"
     ]
    },
    {
     "name": "stdin",
     "output_type": "stream",
     "text": [
      "?  \n"
     ]
    },
    {
     "name": "stdout",
     "output_type": "stream",
     "text": [
      "I guess he figured it was my neck and I had a right to let it be cut if I wanted it that way. “It doesn’t always pay off to be brave,” [MASK] said. “And on top of that it makes you look bad.  ---  Cartom\n"
     ]
    },
    {
     "name": "stdin",
     "output_type": "stream",
     "text": [
      "?  \n"
     ]
    },
    {
     "name": "stdout",
     "output_type": "stream",
     "text": [
      "You don’t know the answers unless you did it. Neither do I.”\n",
      "\n",
      "“You have more time to think about it than I do,” I answered. “If you’re really in danger of being murdered, Mr. [MASK],” he said, “you’re thinking about it more than I am.  ---  Witstow\n"
     ]
    },
    {
     "name": "stdin",
     "output_type": "stream",
     "text": [
      "?  \n"
     ]
    },
    {
     "name": "stdout",
     "output_type": "stream",
     "text": [
      "The old man knew everybody who ever had oil fever, so I guessed they had run across each others trails sometime or other. “Well, what do you say, old-timer?” he asked. [MASK] pointed a finger at me. “He’s the party chief.  ---  Driller\n"
     ]
    },
    {
     "name": "stdin",
     "output_type": "stream",
     "text": [
      "?  \n"
     ]
    },
    {
     "name": "stdout",
     "output_type": "stream",
     "text": [
      "“Somebody got there ahead of me and passed the word that I’m poison and shouldn’t be allowed on the property. Both places. Also, whoever it was leased all the water. I wouldn’t doubt that they’ve been paid to pray it doesn’t rain.”\n",
      "\n",
      "[MASK]’s face showed a faint trace of a smirk.  ---  Jerome\n"
     ]
    },
    {
     "name": "stdin",
     "output_type": "stream",
     "text": [
      "?  \n"
     ]
    }
   ],
   "source": [
    "q, a = select_questions(questions, answers)"
   ]
  },
  {
   "cell_type": "code",
   "execution_count": 106,
   "id": "ccf6b901-952e-4844-84a5-8dd9d3337165",
   "metadata": {},
   "outputs": [
    {
     "data": {
      "text/plain": [
       "100"
      ]
     },
     "execution_count": 106,
     "metadata": {},
     "output_type": "execute_result"
    }
   ],
   "source": [
    "len(q)"
   ]
  },
  {
   "cell_type": "code",
   "execution_count": 37,
   "id": "f0ec7ee9-d721-4c5b-8c70-16cc21fd2fc0",
   "metadata": {},
   "outputs": [
    {
     "data": {
      "text/plain": [
       "100"
      ]
     },
     "execution_count": 37,
     "metadata": {},
     "output_type": "execute_result"
    }
   ],
   "source": [
    "len(a)"
   ]
  },
  {
   "cell_type": "code",
   "execution_count": 111,
   "id": "29d9985d-6f94-481f-bce1-4342f82958ae",
   "metadata": {},
   "outputs": [],
   "source": [
    "with open('QnA/MurderIsDangerous.tsv', mode = 'w', encoding = 'utf-8') as f:\n",
    "    f.write('question\\tanswer\\n')\n",
    "    for question, answer in zip(q, a):\n",
    "        question = question.replace('\\n', ' ').replace('\\t', ' ').replace('  ', ' ')\n",
    "        f.write(question + '\\t' + answer + '\\n')\n",
    "        "
   ]
  },
  {
   "cell_type": "markdown",
   "id": "0a0cd2c9-b290-4f40-8617-57d73ddff99c",
   "metadata": {},
   "source": [
    "### Functions for the API"
   ]
  },
  {
   "cell_type": "code",
   "execution_count": 47,
   "id": "7cdafa43-85be-450d-8a59-a373beb35616",
   "metadata": {},
   "outputs": [],
   "source": [
    "@backoff.on_exception(\n",
    "    backoff.expo,\n",
    "    openai.RateLimitError,\n",
    "    max_time=60,  # Set a maximum wait time in seconds (adjust as needed)\n",
    "    giveup=lambda e: False  # This prevents giving up on retries\n",
    ")\n",
    "def completions_with_backoff(**kwargs):\n",
    "    global client\n",
    "    try:\n",
    "        return client.chat.completions.create(**kwargs)\n",
    "    except openai.APIError as e:\n",
    "        print(f\"Error: {e}\")\n",
    "        raise  # Re-raise the error to trigger the retry mechanism"
   ]
  },
  {
   "cell_type": "code",
   "execution_count": 49,
   "id": "b8a8211e-0584-4277-a9ef-b26229533c80",
   "metadata": {},
   "outputs": [],
   "source": [
    "def submit_prompt(question, temperature):\n",
    "    \n",
    "    system_prompt = \"You are identifying characters in fiction. You will receive a \\\n",
    "    passage from a novel, and guess \\\n",
    "    a name that has been replaced by the token [MASK]. Your response will only be the name itself, \\\n",
    "    which can be one or two words. You will get credit if either first or last name is correct.\"\n",
    "    \n",
    "    user1 = '“In fact, I have been meditating on the very great pleasure which a pair of fine eyes in the face of a pretty woman can bestow.” \\\n",
    "    She immediately fixed her eyes on his face, and desired he would tell her what lady had the credit of inspiring such reflections. He replied, with great intrepidity,—\\\n",
    "    “Miss [MASK].”'\n",
    "    \n",
    "    assistant1 = 'Elizabeth Bennet'\n",
    "    \n",
    "    user2 = \"She dropped her thick black veil over her face and glided from the room. \\\n",
    "    “And what do you think of it all, [MASK]?” asked the detective, leaning back in his chair. \\\n",
    "    “It seems to me to be a most dark and sinister business.” \\\n",
    "    “Dark enough and sinister enough, indeed.”\"\n",
    "    \n",
    "    assistant2 = 'Watson'\n",
    "    \n",
    "    prompt = [{\"role\": \"system\", \"content\": system_prompt},\n",
    "              {\"role\": \"user\", \"content\": user1},\n",
    "              {\"role\": \"assistant\", \"content\": assistant1},\n",
    "              {\"role\": \"user\", \"content\": user2},\n",
    "             {\"role\": \"assistant\", \"content\": assistant2},\n",
    "             {\"role\": \"user\", \"content\": question}]\n",
    "\n",
    "    p = list(prompt)\n",
    "    # print(p)\n",
    "    try:\n",
    "        completion = completions_with_backoff(\n",
    "            model = \"gpt-3.5-turbo\",\n",
    "            messages = p,\n",
    "            max_tokens = 400,\n",
    "            temperature = temperature\n",
    "        )\n",
    "    except Exception as e:\n",
    "        print(f\"An unexpected error occurred: {e}\")\n",
    "        \n",
    "    return completion"
   ]
  },
  {
   "cell_type": "code",
   "execution_count": 93,
   "id": "bfa740eb-419e-480e-9eb3-7ef3cc47739e",
   "metadata": {},
   "outputs": [],
   "source": [
    "def run_test(questions, answers):\n",
    "    gotright = []\n",
    "    for question, answer in zip(questions, answers):\n",
    "        question = question.replace('\\n', ' ').replace('\\t', ' ').replace('  ', ' ')\n",
    "        completion = submit_prompt(question, 0.6)\n",
    "        response = completion.choices[0].message.content\n",
    "        print(question)\n",
    "        print(answer)\n",
    "        print(response, '?')\n",
    "        \n",
    "        a_words = answer.split()\n",
    "        r_words = response.split()\n",
    "        correct = False\n",
    "        for r in r_words:\n",
    "            if r in a_words:\n",
    "                correct = True\n",
    "        print(correct)\n",
    "        print()\n",
    "        gotright.append(correct)\n",
    "    \n",
    "    print(sum(gotright) / len(gotright))\n",
    "    \n",
    "    return gotright\n",
    "        \n",
    "                "
   ]
  },
  {
   "cell_type": "code",
   "execution_count": 112,
   "id": "65862ae7-95eb-4bb1-b138-247875fd19eb",
   "metadata": {},
   "outputs": [
    {
     "name": "stdout",
     "output_type": "stream",
     "text": [
      "“I wish I did.” I put my arms around her and kissed her. She yielded to me as if she expected this to be our last meeting. When I was able, I opened the door and went out. I waved to her from the pickup and started toward the post office to get [MASK].\n",
      "Driller\n",
      "the mail ?\n",
      "False\n",
      "\n",
      "“Go back to sleep.” When we were outside, [MASK] said, “It could have been one of them.” “Try to prove it. They’ll stick by each other and you’ll end up by making a lot of enemies and getting no information. I tried it a couple of days ago.\n",
      "Tawson\n",
      "Marlowe ?\n",
      "False\n",
      "\n",
      "Then they decided it might be valuable. They got most of the rest of the land around here. We’re like a sore thumb on their hand.” A thought occurred to me. “And [MASK]?” “Naw, I don’t think so. But we can’t be sure.” I was upset.\n",
      "Jerome\n",
      "John ?\n",
      "False\n",
      "\n",
      "Did you lock these doors before you left?” He looked in. Then he looked at me. His expression hadn’t changed. “I don’t remember. Why?” [MASK] and I didn’t go into the details. We simply told him how we had scared off a guy who was trying to blow us to smithereens.\n",
      "Driller\n",
      "Nancy ?\n",
      "False\n",
      "\n",
      "I’m not the murderer. I’m it. I’m the guy somebody is trying to murder.” He took his glasses off and started fishing in his hip pocket for a handkerchief. His eyebrows were up and he looked mildly amused. “[MASK], we’ll get whoever is responsible.\n",
      "Witstow\n",
      "Harry Dresden ?\n",
      "False\n",
      "\n",
      "Four sticks of dynamite lay there. Their fuses had been twined together. I didn’t see what it meant at first. Then I recalled that the sheriff’s man had seen someone strike a match right under [MASK]’s window. I swallowed and said, “Thanks.\n",
      "Driller\n",
      "Sherlock Holmes ?\n",
      "False\n",
      "\n",
      "Around eight o’clock, [MASK] came. He was slicked up like an old oil field dude would be. When he came in, he looked me over anxiously. I think he expected to find me in leg irons with a back split by cat-o’-nine-tails.\n",
      "Driller\n",
      "Tom Sawyer ?\n",
      "False\n",
      "\n",
      "The doors to the back were closed. They weren’t padlocked. I opened them and looked in. A new case, one that we hadn’t used, was open. There were vacant places for four sticks of dynamite. My only hope was that [MASK] had been right.\n",
      "Driller\n",
      "Sherlock Holmes ?\n",
      "False\n",
      "\n",
      "“I don’t see yet how and why you’d have done it. But just because I can’t figure it yet doesn’t mean you’re cleared.” [MASK] said, “It seems pretty clear that the watchman saw somebody tinkering with those boom tongs after they had been checked.\n",
      "Driller\n",
      "Hercule Poirot ?\n",
      "False\n",
      "\n",
      "At the time he didn’t know anything about it.” The jailer nodded his head vigorously. I grinned at him. “Well?” “We watched for him. I was just as anxious as you to catch him. The only one we saw was [MASK].\n",
      "Driller\n",
      "Tom Sawyer ?\n",
      "False\n",
      "\n",
      "It ain’t that. But I’m leaving, too. I never had a crush on Jerome, but I don’t like to see the head man kick somebody around.” “You know I don’t like it either,” I said. “But I had to hit him.” [MASK] nodded agreement.\n",
      "Driller\n",
      "Tom ?\n",
      "False\n",
      "\n",
      "“You weren’t, [MASK]?” He was worn out. I noticed for the first time just how tired he was. His eyes had deep circles under them and his back was bent. “No,” he said. “I was awake all right. But he must have sneaked up without making any noise.\n",
      "Driller\n",
      "Sherlock Holmes ?\n",
      "False\n",
      "\n",
      "Why?” “Like I just told you. I didn’t want to be in on anything.” I spoke bluntly. “You’re a liar, Jerome.” He didn’t say anything. “[MASK]’t you?” “Yeah. I was lying. I saw somebody standing outside the window as I was coming back from the truck.\n",
      "Aren\n",
      "Jerome ?\n",
      "False\n",
      "\n",
      "“How do you know you’re one of the suspects,” the sheriff asked. “You been snooping in my private files?” [MASK] favored him with a glum stare. “This isn’t a time for nonsense. I know and you know. Every time something happened, I wondered if you’d think I’d done it.\n",
      "Jerome\n",
      "Sherlock Holmes ?\n",
      "False\n",
      "\n",
      "He was a good, kind old man. No one could want him dead. And yet his body wasn’t far from where I lay. And it was lifeless. I don’t know how long I had been there when [MASK] said, “Witstow.” I looked at him.\n",
      "Cartom\n",
      "Sherlock ?\n",
      "False\n",
      "\n",
      "“Fact is,” I told him, “I’m just about desperate to get water, Mr. [MASK]. I can’t tell you how badly I need it. As I told you last time I saw you, my company will be happy to pay you any reasonable price.” I could have said lots more.\n",
      "Naughton\n",
      "Smith ?\n",
      "False\n",
      "\n",
      "“What happens when we get to the jail?” I asked. Before I had an answer I had time to light a cigarette and smoke it half way through. And when it came, it wasn’t much of an answer. “I don’t have to answer your questions,” [MASK] said.\n",
      "Cartom\n",
      "the suspect ?\n",
      "False\n",
      "\n",
      "Maybe he really is trying to hang this on me so hard that he hasn’t got time to try to get the real murderer.” “Let’s talk about something else,” [MASK] said. “Let’s worry about getting our water so we can shoot some more holes.\n",
      "Driller\n",
      "Huck ?\n",
      "False\n",
      "\n",
      "But I had to do something, so I started coffee going. When the aroma filled the shack, [MASK] opened his eyes. He looked at me in disbelief. “Suffering trilobites,” he exploded sleepily. “You can cook, too!” “Get up, you old fossil,” I laughed.\n",
      "Driller\n",
      "Professor Challenger ?\n",
      "False\n",
      "\n",
      "The man I had blamed and called killer was dead. I looked at Driller. His face was blank. He was just as horrified as I was. [MASK] took his hands away from his face. Without his glasses his eyes were small.\n",
      "Cartom\n",
      "Harry Haller ?\n",
      "False\n",
      "\n",
      "It was peaceful. The birds were singing and lighting on telephone wires and branches of trees. It was a morning just like any other, except that it was the morning after the murder of [MASK]. It was the morning Norma would hear the news of his murder.\n",
      "Barney Lester\n",
      "Norman Bates ?\n",
      "False\n",
      "\n",
      "I’d leave, too.” If I hadn’t been such a stubborn fool, I’d probably have agreed with them. [MASK] was right, as I hated to admit it even to myself. No job was worth the risk of being murdered. Not even if you’ve had your heart set on it ever since you can remember.\n",
      "Jerome\n",
      "Harry Dresden ?\n",
      "False\n",
      "\n",
      "“You really handle that thing,” I said. He nodded a heavy head. “Yeah.” That was all he said. He kept looking at me. “See you in a few days,” I said, and walked back to the pickup. [MASK] was waiting for me at the location.\n",
      "Driller\n",
      "Harry ?\n",
      "False\n",
      "\n",
      "They sat up, all four of them, rubbing their eyes. “What’s the matter?” [MASK] asked. “What is it?” There was a desperate tone to his questions. I looked at each of them before I said, “The amplifiers have been smashed. Every single one of them.” I watched their expressions carefully.\n",
      "Jerome\n",
      "Harry ?\n",
      "False\n",
      "\n",
      "I shook it off. “How come Lester knows so damn much about what we do and what we need?” [MASK] didn’t say anything. I could feel the blood rising in me. My face was hot and I knew it was red.\n",
      "Jerome\n",
      "Buddy ?\n",
      "False\n",
      "\n",
      "Dead.” My breath came in so quickly it hurt. “Dead!” “Yeah. He was hit over the head with something. What was it?” He was asking me. I couldn’t say anything. [MASK] asked, “When was he killed?” I knew he was trying to establish an alibi for me.\n",
      "Driller\n",
      "Sherlock Holmes ?\n",
      "False\n",
      "\n",
      "You couldn’t help liking him. I threw away a cigarette and was about to light another when I realized we were putting off what had to be done. “I’m going to tell [MASK] that something’s happened,” I said. “You wait here.\n",
      "Cartom\n",
      "Sherlock Holmes ?\n",
      "False\n",
      "\n",
      "All the pieces, too. There’s something peculiar.” “Let’s not talk about it for a while, [MASK],” I asked. “It’s still too close.” He put his hand on my arm. It was steady, firm. His manner communicated some of his strength to me.\n",
      "Driller\n",
      "Sherlock Holmes ?\n",
      "False\n",
      "\n",
      "“He’ll be along.” We waited another half-hour. There was nothing to be worried about. [MASK] was a grown man. Things don’t happen to men when they go to the movies. He probably had some good reason for being late. We smoked and said a few things that weren’t important.\n",
      "Driller\n",
      "Charlie ?\n",
      "False\n",
      "\n",
      "We’ll have to play it alone.” He looked worried, but I didn’t give him a chance to argue. “[MASK], you better leave now. Wander around town casually. At exactly ten o’clock I’m going to wave my handkerchief at the window. Before then, you be stationed some place where you can see who it is.\n",
      "Driller\n",
      "Sam Spade ?\n",
      "False\n",
      "\n",
      "“Another goes by the name of Amalgamated.” He stopped. “I don’t think we have to worry much about either of them, really,” I said optimistically. [MASK] looked at me and asked, “Did it ever occur to you that those two troubles are really the same?” It hadn’t and I said so.\n",
      "Driller\n",
      "Spade ?\n",
      "False\n",
      "\n",
      "“No, that isn’t it. My boy, you’re new to this game. You told me so yourself. I like you, I think you’re a fine boy. I’m not mad that you took Norma out.” “Then what’s changed?” His face got older. “[MASK], you work for a good company, but it’s small.\n",
      "Harry\n",
      "Peter Parker ?\n",
      "False\n",
      "\n",
      "I guess the killer thought he wouldn’t be found for quite a while. He had an unlucky break.” “How was he found?” [MASK] asked. He was just asking. His voice was as calm as if he had been ordering a malted milk with an egg in it.\n",
      "Jerome\n",
      "Philip Marlowe ?\n",
      "False\n",
      "\n",
      "But he didn’t speak. Something was going on inside him. Like a battle. Or a remembered hurt. I almost felt sorry for him, but I was still too mad for that. [MASK] looked back at Bailey, who was still standing in the center of the room.\n",
      "Cal\n",
      "Holden Caulfield ?\n",
      "False\n",
      "\n",
      "He really knows we treated him right?” “I don’t mean anything but,” [MASK] said. He wasn’t angry, just thoughtful. “This ain’t the first time it’s happened.” “So what do we do?” “We go lookin’ for the sheriff.” “For the sheriff!” I yelled.\n",
      "Driller\n",
      "Lennie ?\n",
      "False\n",
      "\n",
      "I slammed one fist into the palm of my hand. [MASK] stood waiting for me to quit acting like a ten year old. “You can say anything you want,” I told him. “I have it coming.” He shook his head and smiled.\n",
      "Driller\n",
      "Harry Dresden ?\n",
      "False\n",
      "\n",
      "Would I leave now? I imagined he was wondering that. Would I stick to a spot that had been made hateful by the murder of my best friend? I couldn’t have answered questions simpler than that one. [MASK] held a small, ragged square of brown paper out in his palm.\n",
      "Cartom\n",
      "Sherlock Holmes ?\n",
      "False\n",
      "\n",
      "When he ran low, we couldn’t see him until he made a break for the next stack. Now he was in open country. There were only the derricks and a little equipment. “I see him!” I yelled. “He’s going up that derrick!” [MASK] put his flashlight beam on the derrick.\n",
      "Cartom\n",
      "Sam Spade ?\n",
      "False\n",
      "\n",
      "He seemed to decide against it and then decide to go ahead. “[MASK], if you insist on staying, why don’t you at least write the company and let them know what’s going on? Nobody can blame you if we’re frozen out by Amalgamated.\n",
      "Harry\n",
      "Harry ?\n",
      "True\n",
      "\n",
      "His hand went for the pistol holster on his belt. “It’s [MASK]. Wake up.” He shook his head and looked at me inquisitively. “Some of our most vital equipment has been smashed.” He stood up. “Let’s question the rest of them.” We ran to the hut and I turned on the lights.\n",
      "Witstow\n",
      "Sherlock Holmes ?\n",
      "False\n",
      "\n",
      "It’s like a hospital. The first day you don’t mind it because you can spend it catching up on your sleep. Somebody yelled, “Hey!” I opened my eyes and looked. [MASK] said, “You ready to talk turkey?” He was standing outside the bars in the cell block.\n",
      "Cartom\n",
      "The Warden ?\n",
      "False\n",
      "\n",
      "This might be his last chance. I was going to make every effort to see that it was. [MASK] was going to be outside watching to see that it was. I thought of Botts, and wondered what he had been doing on the edge of the location in the middle of the night.\n",
      "Driller\n",
      "Sherlock Holmes ?\n",
      "False\n",
      "\n",
      "It’ll make you feel good.” I didn’t want to lose my advantage. “Just tell me,” I said gruffly. “Never mind the permission.” He made an oval with his mouth and I knew he was examining his teeth with his tongue. “I used to work for [MASK].\n",
      "Lester\n",
      "Moriarty ?\n",
      "False\n",
      "\n",
      "“I’m really sorry, sir.” I looked to Norma for understanding. She was frowning. I couldn’t tell anything by that. Mr. [MASK] explained calmly, “I don’t get any kind of a cut. I own this shop and I operate it as best I can.\n",
      "Morris\n",
      "Franklin ?\n",
      "False\n",
      "\n",
      "[MASK] had big stakes. He needed the land we were on. He had told me that. He had said that his job depended on the way he made good the same as my job depended on the work I turned in.\n",
      "Lester\n",
      "George ?\n",
      "False\n",
      "\n",
      "“Well, what are we going to do about it?” I had to admit, “It looks like we’re just not going to do anything for a while till we get things straightened out.” He asked [MASK], “You’ve been in the field a long time.\n",
      "Driller\n",
      "Agent Smith ?\n",
      "False\n",
      "\n",
      "I’ve told you what to do.” He patted me on the shoulder. “Get hold of yourself and don’t listen to Jerome.” “He’s right,” I said. “I never thought of it that way before. But it could have happened. It didn’t, but it could have.” “Lots of things could have happened,” [MASK] told me.\n",
      "Driller\n",
      "Jerome ?\n",
      "False\n",
      "\n",
      "I had a feeling that things would come to a head quickly and that way I could at least see where I stood. I was walking the length of the small space allotted me when Mr. [MASK] appeared at the barred door that opened into my cell block.\n",
      "Morris\n",
      "Darcy ?\n",
      "False\n",
      "\n",
      "Finally I said, “Well, darling, I’ve got to go. Now don’t worry. Everything is going to be okay. In the meantime take good care of yourself.” She stood up. “When will I see you again, [MASK]?” I wish I could have told her the answer.\n",
      "Harry\n",
      "Emily ?\n",
      "False\n",
      "\n",
      "This morning, I stopped at the shop. [MASK] looked in the pickup and got a glimpse of Driller, then walked away in a hurry. That was because he recognized the old man. From a long time ago. It fits beautifully like a jigsaw puzzle.\n",
      "Roston\n",
      "Sherlock Holmes ?\n",
      "False\n",
      "\n",
      "“You see, it does make a difference that you guys walked out yesterday. Somebody’s liable to get the idea that we aren’t the best of friends. Somebody like the sheriff.” “I swear I didn’t have anything to do with it,” [MASK] said.\n",
      "Jenkins\n",
      "Lennie ?\n",
      "False\n",
      "\n",
      "“Tell you what,” I said. “You stay here with the pickup and wait for him. I’ll walk over to the restaurant across from the sheriff’s office. He might be having a bite.” I could see through the plate glass window before I went in that [MASK] wasn’t there.\n",
      "Driller\n",
      "Harry Bosch ?\n",
      "False\n",
      "\n",
      "It was hard, sometimes, even to count on best friends. I couldn’t doubt him, but even [MASK] had gone to sleep. The lawman stood up and put his empty cup on the desk. He gave a big stretch. “Well I’ll be getting back to town.\n",
      "Driller\n",
      "Hagrid ?\n",
      "False\n",
      "\n",
      "“I later found out from Jerome,” I went on, “that he used to work for Amalgamated and was fired by [MASK] for selling information about the locations that company was scouting for possible lease and exploration. I had a few words with him and I hit him a couple of times.\n",
      "Lester\n",
      "Mr. Black ?\n",
      "False\n",
      "\n",
      "I said, “Cal, you and [MASK] can go to work on some more surveying. That part can be planned even if we aren’t too sure of some of the angles. And Jenkins can do some checking on his supplies and help clean up the smashed amplifiers.\n",
      "Bailey\n",
      "Cal and [MASK] ?\n",
      "False\n",
      "\n",
      "Never was one for gettin’ my feet bogged down in mud when there’s going to be some dynamite shootin’.” I got some papers in order and told [MASK] to make sure things were ready so we wouldn’t lose any more time.\n",
      "Driller\n",
      "John ?\n",
      "False\n",
      "\n",
      "I have proof now that you don’t belong in jail.” He tossed his glasses on the desk and pulled at his trousers. “You were in jail all day and part of the night. After that, you were with [MASK]. So you have witnesses.\n",
      "Tawson\n",
      "Harry Haller ?\n",
      "False\n",
      "\n",
      "That was the angle that made sense and yet I hadn’t mentioned it to Sheriff Cartom. He was another enigma in the setup. Whose side was he on? I’d have given a gusher to know if he was working for [MASK].\n",
      "Lester\n",
      "Moriarty ?\n",
      "False\n",
      "\n",
      "“You can find yourself another surveyor.” He motioned toward Bailey. “Another rod man too.” They walked out of the shack, helping [MASK] a little as they went. He still seemed absorbed with some trouble that was taking him apart from the inside.\n",
      "Jerome\n",
      "Lennie ?\n",
      "False\n",
      "\n",
      "How about me using the pickup and going to town this afternoon?” “Sure, Jerome. But I have to be at Mr. [MASK]’ shop by ten to get my ride. Be sure you’re back in time to take me.” It was going to be a pleasure to have him away for a while.\n",
      "Morris\n",
      "George ?\n",
      "False\n",
      "\n",
      "It didn’t make me feel good to realize he wasn’t backing up my decision a hundred per cent. “You sound as if you think I should leave.” He gave the truth to the accusation. “[MASK],” he said, “when it comes to a man’s own life, he has to follow his own ideas.\n",
      "Harry\n",
      "Sherlock Holmes ?\n",
      "False\n",
      "\n",
      "“So you and [MASK] climbed into the cab of that truck with no witnesses to see you.” He stopped for a while so I had to say, “Yeah, I guess so.” At my admission he said, “So how does anybody know you were in the cab with [MASK]?\n",
      "Pete\n",
      "Huck Finn ?\n",
      "False\n",
      "\n",
      "“Didn’t this happen rather suddenly? She’s only known you less than a week.” I sensed his fatherly concern. “Yes, sir. It did happen suddenly. But I love her and I hope you won’t object to me.” “It isn’t that I object, [MASK].\n",
      "Harry\n",
      "Mr. Darcy ?\n",
      "False\n",
      "\n",
      "Just do your best.” With that advice off his chest he rolled out one of the racks, set it up, and threw a mattress on it. It made me tired just to see him stretched out so comfortably. [MASK] came back into the shack.\n",
      "Jenkins\n",
      "Huck ?\n",
      "False\n",
      "\n",
      "And I hated even more seeing the look of triumphant satisfaction that would undoubtedly spread over [MASK]’s face. I had seen it when I came back that day without the shot hole casing. I wasn’t in a hurry to see it again.\n",
      "Jerome\n",
      "Sherlock Holmes ?\n",
      "False\n",
      "\n",
      "But if I make good, we’re set. Then we can be married. Everything will be wonderful, darling. But I have to stay on that job.” As I spoke, her face lost its brightness. She used her best woman’s tactics. “You won’t leave, [MASK]?\n",
      "Harry\n",
      "will you ?\n",
      "False\n",
      "\n",
      "You’ll have to promise that nobody knows where you got them. That part will be your responsibility.” “You’re swell, sir,” I said because I couldn’t think of anything better. “You’ve got my word.” [MASK] was just smiling, silently. She stood with her hands behind her back as if they were tied there.\n",
      "Norma\n",
      "Nancy ?\n",
      "False\n",
      "\n",
      "I was trembling a little. I was mad and excited. [MASK] bent over him and lifted his head. The old man glanced back to me and I felt shame run through me for having lost control completely. “I’m sorry, [MASK],” I said.\n",
      "Driller\n",
      "Jack ?\n",
      "False\n",
      "\n",
      "If he comes, drive over to the sheriff’s office. If not, I’ll be back in a few minutes.” I got out and banged the door behind me. If anything happened to [MASK]. . .Cartom was sitting at his desk, bending over some work.\n",
      "Driller\n",
      "Sherlock Holmes ?\n",
      "False\n",
      "\n",
      "They had parked by a comer of the shack, where they had a good view of the door and one window. I couldn’t have gone far even if I had squirmed through the other window. I faced [MASK] and was a little surprised to see that he wasn’t smiling and his eyes weren’t shining.\n",
      "Jerome\n",
      "Sherlock Holmes ?\n",
      "False\n",
      "\n",
      "“I was chasing somebody who was under the window out there. We’ve been here talking half the night, and then when he’s right there, we let him get away.” [MASK] had another cup of coffee ready. He handed it to me.\n",
      "Driller\n",
      "George ?\n",
      "False\n",
      "\n",
      "Outside, the lights of the truck were almost on us. I motioned the driver to turn left and as he passed I hopped onto the running board. “[MASK]?” His face was lost in a grin. “Yeah, [MASK].” He ground the truck to a halt.\n",
      "Pete\n",
      "Jack ?\n",
      "False\n",
      "\n",
      "It steadied me a bit. “How?” I croaked through a mouth of cotton seed. [MASK] wiped the two spots on his nose that formed the resting place for his spectacles. “He was probably hit on the head first to knock him out,” he said.\n",
      "Cartom\n",
      "Sherlock Holmes ?\n",
      "False\n",
      "\n",
      "I stopped the pickup beside them and looked out of the window. “Well, well. Everybody went out and got drunk and now we’re all back. Cluck, cluck, said the mother hen. Now all my chicks are home.” [MASK] said, “You can let up on the funny stuff.\n",
      "Cal\n",
      "Sam Spade ?\n",
      "False\n",
      "\n",
      "I could feel her relax as if this had been the first time all day that she could let herself go. It was for me too. “[MASK], what’s it all about?” she whispered. “Why are people getting killed? What’s the shop got to do with it?\n",
      "Harry\n",
      "Nancy ?\n",
      "False\n",
      "\n",
      "He was weak-livered. He didn’t seem like a guy who’d pull something like this, but he had told me before that he was jealous of me. [MASK] had fired him, he said, and now I had him. Not in so many words.\n",
      "Lester\n",
      "Tom Buchanan ?\n",
      "False\n",
      "\n",
      "You know that.” I decided to ask him point-blank. “If you had proof that [MASK] was a murderer, would you bring him in?” He opened his eyes. He said without feeling or expression, “If I knew my grandmother was a murderer, I’d turn her in.” “That’s what I wanted to know,” I said.\n",
      "Lester\n",
      "Hercule Poirot ?\n",
      "False\n",
      "\n",
      "Well, [MASK], it seems odd to me that attempts have been made on my life and you’re the only man who wants me out of here and you say you don’t know what we have to say to each other about it.” He got to his feet and roared at me.\n",
      "Lester\n",
      "Sherlock Holmes ?\n",
      "False\n",
      "\n",
      "What was going through his mind? He had made so many wrong moves. He had missed me in the truck. He had been forced to kill a witness, the watchman. He had missed me in the shack. He had been forced to kill [MASK].\n",
      "Botts\n",
      "Marlowe ?\n",
      "False\n",
      "\n",
      "“In his veins?” [MASK] dead from such a cause was almost funny. He had spent his life in the oil fields of the Southwest. He knew the taste of oil from putting the sand in his mouth. He knew the smell of it.\n",
      "Driller\n",
      "Tex ?\n",
      "False\n",
      "\n",
      "“Or do you want breakfast in bed?” He dressed and we drank the coffee. We talked about how good it was. We made small conversation about things as important as coffee. [MASK] finally hit on the bright idea of cleaning out the desk.\n",
      "Driller\n",
      "Hemingway ?\n",
      "False\n",
      "\n",
      "He was an old man and he hadn’t been getting the rest he needed. That, on top of worrying about me, hadn’t done him any good. [MASK] had aged as much in the past week as he had in the past two years.\n",
      "Driller\n",
      "George ?\n",
      "False\n",
      "\n",
      "He gave me a long stare and shrugged. He was blowing mist on his glasses when we walked over to his car. He sat there waiting for us. I introduced [MASK] to him and put on an inquisitive face. “You come to stand guard over me personally?” I asked.\n",
      "Driller\n",
      "Sherlock Holmes ?\n",
      "False\n",
      "\n",
      "Known them long?” “No, I haven’t known them long,” I said. “And I don’t know much about them. But that isn’t trying to implicate them. I wouldn’t vouch for them or not vouch for them. They’re just a bunch of guys.” “Jerome isn’t just a guy,” [MASK] said.\n",
      "Cartom\n",
      "Jerome ?\n",
      "False\n",
      "\n",
      "The others hadn’t even come out of their hut. There wasn’t any reason for them to, but I couldn’t help wondering if [MASK] was awake and knew that the company had sent the flues. “Well, let’s turn in again,” I said to the old man.\n",
      "Jerome\n",
      "Captain Nemo ?\n",
      "False\n",
      "\n",
      "But even if he hadn’t been, he was [MASK]’s father. He took his hand away and said, “Incidentally, I’ll sell you all the shot hole casing you want. You’re having enough trouble without having your supplies shut off.” I should have felt pretty good about that, but it was a little late.\n",
      "Norma\n",
      "Huck ?\n",
      "False\n",
      "\n",
      "But I’m worried.” He put his glasses on and dug his thumbs under his suspenders. “Of course, he might not have gone to the show at all. Unless you saw him go in.” “I didn’t see him. I left him there with [MASK].\n",
      "Jerome\n",
      "George ?\n",
      "False\n",
      "\n",
      "I was asleep before I knew it. Except for occasions like the previous night I could fall asleep anywhere, any time. We were up again at five. [MASK] could set his mind like an alarm clock and it rang when he wanted it to.\n",
      "Driller\n",
      "Holmes ?\n",
      "False\n",
      "\n",
      "“I didn’t get the water,” I said. I wanted that understood right from the beginning so we could talk about it and get it over with. “Why not?” [MASK] asked quietly. I unknotted my tie and threw it on the desk.\n",
      "Driller\n",
      "Philip Marlowe ?\n",
      "False\n",
      "\n",
      "We don’t have any water to tamp the dynamite with. We don’t have any shot hole casting to pole the dynamite down.” I held up my hand for him to stop. “We don’t have anything but troubles. We have enough of them.” While we grinned foolishly at each other, [MASK] walked in.\n",
      "Jenkins\n",
      "Harry ?\n",
      "False\n",
      "\n",
      "When I did stop, [MASK] took advantage of it. “What do you mean she’s all he had? What is she to him?” “She’s everything to him. Look, he’s worked for her father for a long time. Ever since she was a little girl.\n",
      "Cartom\n",
      "Lennie ?\n",
      "False\n",
      "\n",
      "We waved at each other and I started the motor and drove toward town. I didn’t know what to do with the things I had learned; I hadn’t had time to grasp what they meant. [MASK] had received a note and thought I sent it to him.\n",
      "Barney Lester\n",
      "Gatsby ?\n",
      "False\n",
      "\n",
      "If you’re going to be mixed up in this and stay in trouble, [MASK] mustn’t be involved. I know she likes you. Likes you very much. But that’s all the more reason for you to settle this thing now or forget her and leave her alone.” “Mr.\n",
      "Norma\n",
      "Darcy ?\n",
      "False\n",
      "\n",
      "“And what do you think, Norma?” “I think I love you very much,” she said. “And I think it’s dangerous for you. [MASK], I wish you would quit your job and go. It’s not safe here. Please, darling. Be sensible.” “And what about you?” She took a deep breath.\n",
      "Harry\n",
      "James Bond ?\n",
      "False\n",
      "\n",
      "I appreciate it.” We stood in that awkward silence that means two men are trying to express the friendship they feel. “I’d better be getting back to the location,” I said. “The old-timer is out there by himself, and it isn’t very safe to be out there.” He said, “All right, [MASK].\n",
      "Harry\n",
      "Sam ?\n",
      "False\n",
      "\n",
      "“At seven-thirty?” She favored him with good-humored eyes. “Seven-thirty.” We walked out together. He said, “I’ll see you again sometime, [MASK],” and got into his car. I guess he had finished his business there before I arrived. I watched him out of sight.\n",
      "Witstow\n",
      "Gatsby ?\n",
      "False\n",
      "\n",
      "I guess he figured it was my neck and I had a right to let it be cut if I wanted it that way. “It doesn’t always pay off to be brave,” [MASK] said. “And on top of that it makes you look bad.\n",
      "Cartom\n",
      "Sam Spade ?\n",
      "False\n",
      "\n",
      "You don’t know the answers unless you did it. Neither do I.” “You have more time to think about it than I do,” I answered. “If you’re really in danger of being murdered, Mr. [MASK],” he said, “you’re thinking about it more than I am.\n",
      "Witstow\n",
      "Holmes ?\n",
      "False\n",
      "\n",
      "The old man knew everybody who ever had oil fever, so I guessed they had run across each others trails sometime or other. “Well, what do you say, old-timer?” he asked. [MASK] pointed a finger at me. “He’s the party chief.\n",
      "Driller\n",
      "Daniel Plainview ?\n",
      "False\n",
      "\n",
      "“Somebody got there ahead of me and passed the word that I’m poison and shouldn’t be allowed on the property. Both places. Also, whoever it was leased all the water. I wouldn’t doubt that they’ve been paid to pray it doesn’t rain.” [MASK]’s face showed a faint trace of a smirk.\n",
      "Jerome\n",
      "Catherine ?\n",
      "False\n",
      "\n",
      "0.01\n"
     ]
    }
   ],
   "source": [
    "gotright = run_test(q, a)"
   ]
  },
  {
   "cell_type": "code",
   "execution_count": null,
   "id": "a6343af9-2838-4e7e-b07f-a6db47000edb",
   "metadata": {},
   "outputs": [],
   "source": []
  }
 ],
 "metadata": {
  "kernelspec": {
   "display_name": "Python 3",
   "language": "python",
   "name": "python3"
  },
  "language_info": {
   "codemirror_mode": {
    "name": "ipython",
    "version": 3
   },
   "file_extension": ".py",
   "mimetype": "text/x-python",
   "name": "python",
   "nbconvert_exporter": "python",
   "pygments_lexer": "ipython3",
   "version": "3.7.6"
  }
 },
 "nbformat": 4,
 "nbformat_minor": 5
}
